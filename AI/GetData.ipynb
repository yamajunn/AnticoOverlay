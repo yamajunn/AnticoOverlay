{
 "cells": [
  {
   "cell_type": "code",
   "execution_count": 199,
   "metadata": {},
   "outputs": [],
   "source": [
    "import json\n",
    "import requests\n",
    "import csv\n",
    "import time\n",
    "import pprint\n",
    "import pickle"
   ]
  },
  {
   "cell_type": "code",
   "execution_count": 200,
   "metadata": {},
   "outputs": [],
   "source": [
    "# API_KEY = \"bee552bc-c708-4375-9e34-01662a8822e0\"\n",
    "def getinfo(call):\n",
    "    r = requests.get(call,timeout=10)\n",
    "    return r.json()\n",
    "with open('Snipers.json') as f:\n",
    "    snipers = json.load(f)\n",
    "with open('Players.json') as f:\n",
    "    players = json.load(f)"
   ]
  },
  {
   "cell_type": "code",
   "execution_count": 201,
   "metadata": {},
   "outputs": [],
   "source": [
    "def flatten_dict(d, parent_key='', sep='_'):\n",
    "    items = []\n",
    "    for k, v in d.items():\n",
    "        new_key = parent_key + sep + k if parent_key else k\n",
    "        if isinstance(v, dict):\n",
    "            items.extend(flatten_dict(v, new_key, sep=sep).items())\n",
    "        elif isinstance(v, list):\n",
    "            for i, item in enumerate(v):\n",
    "                items.extend(flatten_dict({str(i): item}, new_key, sep=sep).items())\n",
    "        else:\n",
    "            items.append((new_key, v))\n",
    "    return dict(items)"
   ]
  },
  {
   "cell_type": "code",
   "execution_count": 202,
   "metadata": {},
   "outputs": [],
   "source": [
    "def get_data(uuids, Snipe):\n",
    "    # uuids = [\"1ced16db-2bc5-4354-917f-7bf8382b8840\"]\n",
    "    data_dic_list = []\n",
    "    with open('status.json') as f:\n",
    "        di = json.load(f)\n",
    "    with open('api.json') as f:\n",
    "        tokens = json.load(f)\n",
    "\n",
    "    for uuid in uuids:\n",
    "        ut = time.time()\n",
    "        if ut - di[\"callstart\"] >= 300:\n",
    "            di[\"callstart\"] = ut\n",
    "            di[\"call\"] = 0\n",
    "        di[\"call\"] += 1\n",
    "        with open('status.json', 'w') as f:\n",
    "            json.dump(di, f)\n",
    "        API_KEY = tokens[f\"HYPIXEL_TOKEN_{di['api_num']}\"]\n",
    "        if di[\"call\"] >= 290:\n",
    "            if di[\"api_num\"] == 0:\n",
    "                API_KEY = tokens[\"HYPIXEL_TOKEN_1\"]\n",
    "                di[\"api_num\"] = 1\n",
    "            elif di[\"api_num\"] == 1:\n",
    "                API_KEY = tokens[\"HYPIXEL_TOKEN_2\"]\n",
    "                di[\"api_num\"] = 2\n",
    "            elif di[\"api_num\"] == 2:\n",
    "                API_KEY = tokens[\"HYPIXEL_TOKEN_0\"]\n",
    "                di[\"api_num\"] = 0\n",
    "            di[\"call\"] = 0\n",
    "            with open('status.json', 'w') as f:\n",
    "                json.dump(di, f)\n",
    "\n",
    "        uuid_link = f\"https://api.hypixel.net/player?key={API_KEY}&uuid={uuid}\"\n",
    "        data_dic = getinfo(uuid_link)\n",
    "        # pprint.pprint(data_dic)\n",
    "        if data_dic is not None and \"cause\" in data_dic and data_dic[\"cause\"] == \"Key throttle\":\n",
    "            time.sleep(60)\n",
    "            continue\n",
    "        if data_dic is not None and data_dic[\"success\"] == True:\n",
    "            data_dic[\"Snipe\"] = Snipe\n",
    "            flattened_data = flatten_dict(data_dic)\n",
    "            data_dic_list.append(flattened_data)\n",
    "            # pprint.pprint(data_dic)\n",
    "    return data_dic_list"
   ]
  },
  {
   "cell_type": "code",
   "execution_count": 203,
   "metadata": {},
   "outputs": [],
   "source": [
    "data_dic_list = get_data(snipers, True)\n",
    "data_dic_list += get_data(players, False)"
   ]
  },
  {
   "cell_type": "code",
   "execution_count": 204,
   "metadata": {},
   "outputs": [],
   "source": [
    "# with open('Player_Data.json', 'w') as f:\n",
    "#     json.dump(data_dic_list, f)"
   ]
  },
  {
   "cell_type": "code",
   "execution_count": 205,
   "metadata": {},
   "outputs": [],
   "source": [
    "flattened_data_list = []\n",
    "for dic in data_dic_list:\n",
    "    # 辞書をフラット化する\n",
    "    flattened_data = flatten_dict(dic)\n",
    "    flattened_data_list.append(flattened_data)"
   ]
  },
  {
   "cell_type": "code",
   "execution_count": 211,
   "metadata": {},
   "outputs": [],
   "source": [
    "labels_dic = {}\n",
    "for dic in flattened_data_list:\n",
    "    for label in dic:\n",
    "        if not label in labels_dic:\n",
    "            labels_dic[label] = type(dic[label])\n",
    "with open('models/labels_dic.pkl', 'wb') as f:\n",
    "    pickle.dump(labels_dic, f)"
   ]
  },
  {
   "cell_type": "code",
   "execution_count": 207,
   "metadata": {},
   "outputs": [],
   "source": [
    "for index, dic in enumerate(flattened_data_list):\n",
    "    for label in labels_dic:\n",
    "        if not label in dic:\n",
    "            if labels_dic[label] == str:\n",
    "                flattened_data_list[index][label] = \"Null\"\n",
    "                # print(\"str\")\n",
    "            elif labels_dic[label] == int:\n",
    "                flattened_data_list[index][label] = 0\n",
    "                # print(\"int\")\n",
    "            elif labels_dic[label] == float:\n",
    "                flattened_data_list[index][label] = 0.0\n",
    "                # print(\"float\")\n",
    "            elif labels_dic[label] == bool:\n",
    "                flattened_data_list[index][label] = False\n",
    "                # print(\"bool\")\n",
    "            elif labels_dic[label] == None:\n",
    "                flattened_data_list[index][label] = None\n",
    "                # print(\"None\")\n",
    "# pprint.pprint(flattened_data_list)"
   ]
  },
  {
   "cell_type": "code",
   "execution_count": 208,
   "metadata": {},
   "outputs": [],
   "source": [
    "# with open('Sniper_Data.json', 'w') as f:\n",
    "#     json.dump(flattened_data_list, f)"
   ]
  },
  {
   "cell_type": "code",
   "execution_count": 209,
   "metadata": {},
   "outputs": [],
   "source": [
    "# with open('Sniper_Data.json') as f:\n",
    "#     di = json.load(f)\n",
    "#     pprint.pprint(di[1])"
   ]
  },
  {
   "cell_type": "code",
   "execution_count": 210,
   "metadata": {},
   "outputs": [],
   "source": [
    "# CSVファイル名\n",
    "csv_file = \"Data.csv\"\n",
    "\n",
    "# 辞書のラベル\n",
    "fieldnames = labels_dic.keys()\n",
    "\n",
    "# CSVファイルに書き込み\n",
    "with open(csv_file, mode=\"w\", newline=\"\") as f:\n",
    "    writer = csv.DictWriter(f, fieldnames=fieldnames)\n",
    "    writer.writeheader()\n",
    "    for d in flattened_data_list:\n",
    "        writer.writerow(d)"
   ]
  }
 ],
 "metadata": {
  "kernelspec": {
   "display_name": "Python 3",
   "language": "python",
   "name": "python3"
  },
  "language_info": {
   "codemirror_mode": {
    "name": "ipython",
    "version": 3
   },
   "file_extension": ".py",
   "mimetype": "text/x-python",
   "name": "python",
   "nbconvert_exporter": "python",
   "pygments_lexer": "ipython3",
   "version": "3.10.5"
  }
 },
 "nbformat": 4,
 "nbformat_minor": 2
}
