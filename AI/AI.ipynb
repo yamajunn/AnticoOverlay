{
 "cells": [
  {
   "cell_type": "code",
   "execution_count": 45,
   "metadata": {},
   "outputs": [],
   "source": [
    "import seaborn as sns\n",
    "import pandas as pd\n",
    "import matplotlib.pyplot as plt\n",
    "import numpy as np\n",
    "import joblib\n",
    "import tensorflow as tf\n",
    "from sklearn.model_selection import train_test_split\n",
    "from sklearn.preprocessing import StandardScaler\n",
    "from sklearn.neural_network import MLPClassifier\n",
    "from sklearn.decomposition import PCA\n",
    "\n",
    "from sklearn.svm import SVC\n",
    "from sklearn.ensemble import RandomForestClassifier\n",
    "from sklearn.linear_model import LogisticRegression"
   ]
  },
  {
   "cell_type": "code",
   "execution_count": 46,
   "metadata": {},
   "outputs": [],
   "source": [
    "data_path = \"./Data.csv\"\n",
    "df = pd.read_csv(data_path)\n",
    "\n",
    "# df = df[['networkExp', 'bedwars_level', 'Experience', 'beds_broken_bedwars', 'beds_lost_bedwars', 'coins', 'deaths_bedwars', 'diamond_resources_collected_bedwars', 'emerald_resources_collected_bedwars', 'final_deaths_bedwars', 'final_kills_bedwars', 'games_played_bedwars', 'games_played_bedwars_1', 'kills_bedwars', 'losses_bedwars', 'void_final_deaths_bedwars',  'wins_bedwars','fkdr','wlr','bblr','fk_lev','bb_lev','kill_lev', \"Cheat\"]]\n",
    "df = df[['karma', \n",
    "        'bedwars_loot_box',\n",
    "        'all_timeBEDWARS__defensive', 'BEDWARS__offensive',\n",
    "        'BEDWARS__support', 'Bedwars_openedChests',\n",
    "        'beds_broken_bedwars', 'beds_lost_bedwars',\n",
    "        'deaths_bedwars', 'diamond_resources_collected_bedwars',\n",
    "        'emerald_resources_collected_bedwars', 'fall_deaths_bedwars',\n",
    "        'final_deaths_bedwars', 'final_kills_bedwars',\n",
    "        'games_played_bedwars', 'games_played_bedwars_1', 'kills_bedwars',\n",
    "        'losses_bedwars', 'void_deaths_bedwars', 'void_final_deaths_bedwars',\n",
    "        'void_final_kills_bedwars', 'void_kills_bedwars', 'wins_bedwars', \"Cheat\"\n",
    "        ]]"
   ]
  },
  {
   "cell_type": "code",
   "execution_count": 47,
   "metadata": {},
   "outputs": [
    {
     "name": "stdout",
     "output_type": "stream",
     "text": [
      "            karma  bedwars_loot_box  all_timeBEDWARS__defensive  \\\n",
      "0     5991.990142          1.026905                         0.0   \n",
      "1       75.949367         27.004219                         0.0   \n",
      "2     9702.969049          0.630104                         0.0   \n",
      "3     5876.654827          0.000000                         0.0   \n",
      "4        0.000000          8.962868                         0.0   \n",
      "...           ...               ...                         ...   \n",
      "4673  2476.356758          0.000000                         0.0   \n",
      "4674    30.491523          3.658983                         0.0   \n",
      "4675   344.382264          2.869852                         0.0   \n",
      "4676   117.435411          3.498076                         0.0   \n",
      "4677   116.369279          0.000000                         0.0   \n",
      "\n",
      "      BEDWARS__offensive  BEDWARS__support  Bedwars_openedChests  \\\n",
      "0              55.452865          2.053810              3.080715   \n",
      "1              15.189873         25.316456             75.949367   \n",
      "2               2.142353          1.008166              1.386228   \n",
      "3              48.433968         16.144656              0.000000   \n",
      "4               5.121639         93.469910             21.766965   \n",
      "...                  ...               ...                   ...   \n",
      "4673           34.191765         20.369562              0.000000   \n",
      "4674            3.658983         29.271862              0.000000   \n",
      "4675            0.000000         30.133448              0.000000   \n",
      "4676            4.497526         17.490380              0.000000   \n",
      "4677            3.878976         50.426687              0.000000   \n",
      "\n",
      "      beds_broken_bedwars  beds_lost_bedwars  deaths_bedwars  \\\n",
      "0              215.650031         167.385500      826.658451   \n",
      "1              195.780591         617.721519     1659.071730   \n",
      "2                7.939308          12.097994       50.408307   \n",
      "3              238.940911         125.928318      765.256700   \n",
      "4               71.702945         451.984635     1212.548015   \n",
      "...                   ...                ...             ...   \n",
      "4673           217.517823           0.727484     1291.284737   \n",
      "4674            43.907794           1.219661     1828.271740   \n",
      "4675            20.088965           1.434926     2314.535801   \n",
      "4676           116.935685           0.499725     2605.067213   \n",
      "4677            42.668735           3.878976     2071.373157   \n",
      "\n",
      "      diamond_resources_collected_bedwars  ...  games_played_bedwars  \\\n",
      "0                              142.739782  ...            271.102896   \n",
      "1                             1162.869198  ...            668.354430   \n",
      "2                               37.176127  ...             19.281178   \n",
      "3                              658.701970  ...            203.422667   \n",
      "4                             3092.189501  ...            501.920615   \n",
      "...                                   ...  ...                   ...   \n",
      "4673                           616.906737  ...            404.481304   \n",
      "4674                          1120.868399  ...            809.854860   \n",
      "4675                          1264.169895  ...            924.092409   \n",
      "4676                           848.033582  ...           1103.393134   \n",
      "4677                          1431.342126  ...           1004.654771   \n",
      "\n",
      "      games_played_bedwars_1  kills_bedwars  losses_bedwars  \\\n",
      "0                 271.102896     414.869583      254.672417   \n",
      "1                 668.354430     722.362869      648.101266   \n",
      "2                  19.407198      31.001109       15.752596   \n",
      "3                 203.422667     290.603810      164.675492   \n",
      "4                 513.444302     939.820743      445.582586   \n",
      "...                      ...            ...             ...   \n",
      "4673              504.874145    1420.049469        0.727484   \n",
      "4674              904.988413    1211.123308        1.219661   \n",
      "4675             1114.937581     992.968862        1.434926   \n",
      "4676             1463.195243     320.323822        0.499725   \n",
      "4677             1190.845617     480.993018        3.878976   \n",
      "\n",
      "      void_deaths_bedwars  void_final_deaths_bedwars  \\\n",
      "0              386.116246                  57.506675   \n",
      "1              941.772152                 249.789030   \n",
      "2               24.574050                   1.764291   \n",
      "3              413.303197                  51.662900   \n",
      "4              659.411012                 172.855314   \n",
      "...                   ...                        ...   \n",
      "4673           608.904409                  66.201077   \n",
      "4674          1094.035858                 270.764727   \n",
      "4675          1439.230880                 449.131870   \n",
      "4676          1615.611414                 478.236970   \n",
      "4677          1318.851823                 290.923196   \n",
      "\n",
      "      void_final_kills_bedwars  void_kills_bedwars  wins_bedwars  Cheat  \n",
      "0                   110.905730          204.354077     16.430479      0  \n",
      "1                   126.582278          329.113924     20.253165      0  \n",
      "2                     3.906644           12.854118      2.646436      0  \n",
      "3                    96.867937          103.325799     38.747175      0  \n",
      "4                    29.449424          302.176697     32.010243      0  \n",
      "...                        ...                 ...           ...    ...  \n",
      "4673                185.508512          688.200204    189.145933      1  \n",
      "4674                 46.347116          435.418954    164.654226      1  \n",
      "4675                 64.571675          388.864973    113.359162      1  \n",
      "4676                 50.472240          170.906002     78.956574      1  \n",
      "4677                 54.305663          259.891389    217.222653      1  \n",
      "\n",
      "[4678 rows x 24 columns]\n"
     ]
    }
   ],
   "source": [
    "# Cheatカラムを削除して、各レコードの合計を計算する\n",
    "row_sums = df.drop('Cheat', axis=1).sum(axis=1)\n",
    "\n",
    "# 分母が0になる可能性がある行のインデックスを取得\n",
    "zero_division_indices = row_sums[row_sums == 0].index\n",
    "\n",
    "# 10,000をその行の合計値で割った値を計算して保持する\n",
    "divisors = pd.Series(0, index=df.index)  # 全ての行を0で初期化\n",
    "divisors[zero_division_indices] = 0  # 分母が0になる行のみ0に設定\n",
    "divisors[~divisors.index.isin(zero_division_indices)] = 10000 / row_sums[~row_sums.index.isin(zero_division_indices)]\n",
    "\n",
    "# それぞれの行に対して計算した値を掛ける\n",
    "df_scaled = df.drop('Cheat', axis=1).mul(divisors, axis=0)\n",
    "\n",
    "# データフレームにCheatカラムを追加する\n",
    "df_scaled['Cheat'] = df['Cheat']\n",
    "print(df_scaled)\n",
    "\n",
    "# 新しいデータベースとして保存する\n",
    "# df_scaled.to_csv('ScaledData.csv', index=False)"
   ]
  },
  {
   "cell_type": "code",
   "execution_count": 48,
   "metadata": {},
   "outputs": [
    {
     "name": "stdout",
     "output_type": "stream",
     "text": [
      "Training Accuracy: 0.997327632282202\n",
      "Testing Accuracy: 0.8942307692307693\n"
     ]
    }
   ],
   "source": [
    "# df = pd.get_dummies(df)\n",
    "# print(\"dummies\")\n",
    "\n",
    "X = df_scaled.drop('Cheat', axis=1)\n",
    "y = df_scaled['Cheat']\n",
    "\n",
    "# データの標準化\n",
    "# scaler = StandardScaler()\n",
    "# X = scaler.fit_transform(X)\n",
    "\n",
    "# 訓練データとテストデータに分割\n",
    "X_train, X_test, y_train, y_test = train_test_split(X, y, test_size=0.2, random_state=0)\n",
    "\n",
    "# モデルの作成\n",
    "model = RandomForestClassifier(n_estimators=2000, random_state=42, class_weight={0: 1, 1: 3})\n",
    "model.fit(X_train, y_train)\n",
    "\n",
    "# 訓練データの正解率\n",
    "train_accuracy = model.score(X_train, y_train)\n",
    "print(f'Training Accuracy: {train_accuracy}')\n",
    "\n",
    "# テストデータの正解率\n",
    "test_accuracy = model.score(X_test, y_test)\n",
    "print(f'Testing Accuracy: {test_accuracy}')\n",
    "\n",
    "# モデルと標準化器の保存\n",
    "# joblib.dump(model, './models/Cheater.pkl')\n",
    "# joblib.dump(scaler, './models/scaler.joblib')\n"
   ]
  },
  {
   "cell_type": "code",
   "execution_count": 49,
   "metadata": {},
   "outputs": [
    {
     "data": {
      "text/plain": [
       "['../Cheater.pkl']"
      ]
     },
     "execution_count": 49,
     "metadata": {},
     "output_type": "execute_result"
    }
   ],
   "source": [
    "joblib.dump(model, '../Cheater.pkl')\n",
    "# joblib.dump(scaler, './models/scaler.joblib')"
   ]
  },
  {
   "cell_type": "markdown",
   "metadata": {},
   "source": [
    "# snipe垢の条件\n",
    "\n",
    "fkdr, wlr, bblrは低い\n",
    "\n",
    "star n.levは30以下\n",
    "\n",
    "sniper%が高い　（ターゲットが見つかるまで何回もｒｑするから）\n",
    "\n",
    "fk/lev bb/lev kill/lev が高い　fk/levは7.5 bb/levは6.5 kill/levは20以上で高い"
   ]
  },
  {
   "cell_type": "markdown",
   "metadata": {},
   "source": [
    "# cheatersデータ - snipe垢 = not sniper cheaters\n",
    "snipe垢の条件外のcheaterを予測する。"
   ]
  },
  {
   "cell_type": "markdown",
   "metadata": {},
   "source": [
    "# cubelifyのsniper%\n",
    "cubelifyのsniper%を取得して、学習データとする"
   ]
  }
 ],
 "metadata": {
  "kernelspec": {
   "display_name": "Python 3",
   "language": "python",
   "name": "python3"
  },
  "language_info": {
   "codemirror_mode": {
    "name": "ipython",
    "version": 3
   },
   "file_extension": ".py",
   "mimetype": "text/x-python",
   "name": "python",
   "nbconvert_exporter": "python",
   "pygments_lexer": "ipython3",
   "version": "3.10.11"
  }
 },
 "nbformat": 4,
 "nbformat_minor": 2
}
