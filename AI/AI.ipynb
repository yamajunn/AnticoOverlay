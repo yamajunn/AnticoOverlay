{
 "cells": [
  {
   "cell_type": "code",
   "execution_count": 22,
   "metadata": {},
   "outputs": [],
   "source": [
    "import seaborn as sns\n",
    "import pandas as pd\n",
    "import matplotlib.pyplot as plt\n",
    "import numpy as np\n",
    "import joblib\n",
    "from sklearn.model_selection import train_test_split\n",
    "from sklearn.preprocessing import StandardScaler\n",
    "from sklearn.neural_network import MLPClassifier\n",
    "from sklearn.decomposition import PCA\n",
    "\n",
    "from sklearn.svm import SVC\n",
    "from sklearn.ensemble import RandomForestClassifier\n",
    "from sklearn.linear_model import LogisticRegression"
   ]
  },
  {
   "cell_type": "code",
   "execution_count": 23,
   "metadata": {},
   "outputs": [],
   "source": [
    "data_path = \"./Data.csv\"\n",
    "df = pd.read_csv(data_path)"
   ]
  },
  {
   "cell_type": "code",
   "execution_count": 24,
   "metadata": {},
   "outputs": [
    {
     "name": "stdout",
     "output_type": "stream",
     "text": [
      "Index(['networkExp', 'bedwars_level', 'Experience', 'beds_broken_bedwars',\n",
      "       'beds_lost_bedwars', 'coins', 'deaths_bedwars',\n",
      "       'diamond_resources_collected_bedwars',\n",
      "       'emerald_resources_collected_bedwars', 'final_deaths_bedwars',\n",
      "       'final_kills_bedwars', 'games_played_bedwars', 'games_played_bedwars_1',\n",
      "       'kills_bedwars', 'losses_bedwars', 'void_final_deaths_bedwars',\n",
      "       'wins_bedwars', 'fkdr', 'wlr', 'bblr', 'fk_lev', 'bb_lev', 'kill_lev'],\n",
      "      dtype='object')\n",
      "Training Accuracy: 0.7504008551576697\n",
      "Testing Accuracy: 0.7542735042735043\n"
     ]
    },
    {
     "data": {
      "text/plain": [
       "['./models/scaler.joblib']"
      ]
     },
     "execution_count": 24,
     "metadata": {},
     "output_type": "execute_result"
    }
   ],
   "source": [
    "# X = df.drop('Cheat', axis=1)\n",
    "X = df[['networkExp', 'bedwars_level', 'Experience', 'beds_broken_bedwars', 'beds_lost_bedwars', 'coins', 'deaths_bedwars', 'diamond_resources_collected_bedwars', 'emerald_resources_collected_bedwars', 'final_deaths_bedwars', 'final_kills_bedwars', 'games_played_bedwars', 'games_played_bedwars_1', 'kills_bedwars', 'losses_bedwars', 'void_final_deaths_bedwars',  'wins_bedwars','fkdr','wlr','bblr','fk_lev','bb_lev','kill_lev']]\n",
    "# X = df[['networkExp', 'bedwars_beds', 'bedwars_level', 'bedwars_wins', 'beds_broken_bedwars', 'beds_lost_bedwars', 'deaths_bedwars', 'diamond_resources_collected_bedwars', 'emerald_resources_collected_bedwars', 'fall_deaths_bedwars', 'final_deaths_bedwars', 'final_kills_bedwars', 'games_played_bedwars', 'games_played_bedwars_1', 'kills_bedwars', 'losses_bedwars', 'void_deaths_bedwars', 'void_final_deaths_bedwars', 'wins_bedwars']]\n",
    "print(X.columns)\n",
    "y = df['Cheat']\n",
    "\n",
    "scaler = StandardScaler()\n",
    "X_scaled = scaler.fit_transform(X)\n",
    "\n",
    "# pca = PCA(n_components=2)  # 変換後の特徴量の数を指定します\n",
    "# X_scaled = pca.fit_transform(X_scaled)\n",
    "\n",
    "# 訓練データとテストデータに分ける\n",
    "X_train, X_test, y_train, y_test = train_test_split(X_scaled, y, test_size=0.2, random_state=0)\n",
    "\n",
    "\n",
    "# bedwars_levelが20以下の場合は重みを減らす\n",
    "# weights = {0: 1, 1: 20}  # デフォルトの重み\n",
    "# low_bedwars_level_weight = 0.5  # bedwars_levelが20以下の場合の重み\n",
    "\n",
    "# X_train_weighted = X_train.copy()\n",
    "# X_train_weighted['bedwars_level_weight'] = np.where(X_train['bedwars_level'] <= 20, low_bedwars_level_weight, 1)\n",
    "\n",
    "# データごとに重みを設定\n",
    "# sample_weights = np.array([weights[y] * X_train_weighted['bedwars_level_weight'].iloc[i] for i, y in enumerate(y_train)])\n",
    "\n",
    "\n",
    "# モデルの作成\n",
    "# model = RandomForestClassifier(n_estimators=200, random_state=42, class_weight=None)\n",
    "# model = LogisticRegression(max_iter=200, random_state=42)\n",
    "model = SVC(kernel='rbf', C=0.1, gamma='scale', probability=True)\n",
    "# model.fit(X_train_scaled, y_train, sample_weight=sample_weights)\n",
    "model.fit(X_train, y_train)\n",
    "\n",
    "\n",
    "# 訓練データの正解率\n",
    "train_accuracy = model.score(X_train, y_train)\n",
    "print(f'Training Accuracy: {train_accuracy}')\n",
    "\n",
    "# テストデータの正解率\n",
    "test_accuracy = model.score(X_test, y_test)\n",
    "print(f'Testing Accuracy: {test_accuracy}')\n",
    "\n",
    "joblib.dump(model, './models/Cheater.pkl')\n",
    "joblib.dump(scaler, './models/scaler.joblib')"
   ]
  },
  {
   "cell_type": "markdown",
   "metadata": {},
   "source": [
    "# snipe垢の条件\n",
    "\n",
    "fkdr, wlr, bblrは低い\n",
    "\n",
    "star n.levは30以下\n",
    "\n",
    "sniper%が高い　（ターゲットが見つかるまで何回もｒｑするから）\n",
    "\n",
    "fk/lev bb/lev kill/lev が高い　fk/levは7.5 bb/levは6.5 kill/levは20以上で高い"
   ]
  },
  {
   "cell_type": "markdown",
   "metadata": {},
   "source": [
    "# cheatersデータ - snipe垢 = not sniper cheaters\n",
    "snipe垢の条件外のcheaterを予測する。"
   ]
  },
  {
   "cell_type": "markdown",
   "metadata": {},
   "source": [
    "# cubelifyのsniper%\n",
    "cubelifyのsniper%を取得して、学習データとする"
   ]
  }
 ],
 "metadata": {
  "kernelspec": {
   "display_name": "Python 3",
   "language": "python",
   "name": "python3"
  },
  "language_info": {
   "codemirror_mode": {
    "name": "ipython",
    "version": 3
   },
   "file_extension": ".py",
   "mimetype": "text/x-python",
   "name": "python",
   "nbconvert_exporter": "python",
   "pygments_lexer": "ipython3",
   "version": "3.10.5"
  }
 },
 "nbformat": 4,
 "nbformat_minor": 2
}
