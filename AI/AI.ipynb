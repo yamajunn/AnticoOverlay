{
 "cells": [
  {
   "cell_type": "code",
   "execution_count": 53,
   "metadata": {},
   "outputs": [],
   "source": [
    "import seaborn as sns\n",
    "import pandas as pd\n",
    "import matplotlib.pyplot as plt\n",
    "import numpy as np\n",
    "import joblib\n",
    "import tensorflow as tf\n",
    "from sklearn.model_selection import train_test_split\n",
    "from sklearn.preprocessing import StandardScaler\n",
    "from sklearn.neural_network import MLPClassifier\n",
    "from sklearn.decomposition import PCA\n",
    "\n",
    "from sklearn.svm import SVC\n",
    "from sklearn.ensemble import RandomForestClassifier\n",
    "from sklearn.linear_model import LogisticRegression"
   ]
  },
  {
   "cell_type": "code",
   "execution_count": 54,
   "metadata": {},
   "outputs": [],
   "source": [
    "data_path = \"./Data.csv\"\n",
    "df = pd.read_csv(data_path)"
   ]
  },
  {
   "cell_type": "code",
   "execution_count": 55,
   "metadata": {},
   "outputs": [
    {
     "name": "stdout",
     "output_type": "stream",
     "text": [
      "          karma  networkExp  bedwars_beds  bedwars_bedwars_challenger  \\\n",
      "0     17.016155  829.020638      0.612407                    0.000000   \n",
      "1      0.065540  818.905750      0.168948                    0.000000   \n",
      "2     68.870497  883.418983      0.057247                    0.000000   \n",
      "3     16.078880  785.276580      0.653757                    0.000000   \n",
      "4      0.000000  689.785224      0.104293                    0.000000   \n",
      "...         ...         ...           ...                         ...   \n",
      "4673   1.584940  403.840826      0.139218                    0.003259   \n",
      "4674   0.062478  615.831959      0.089969                    0.000000   \n",
      "4675   0.405830  556.337719      0.023673                    0.000000   \n",
      "4676   0.140081  559.878660      0.139485                    0.000000   \n",
      "4677   0.087604  488.589542      0.032122                    0.000000   \n",
      "\n",
      "      bedwars_bedwars_killer  bedwars_collectors_edition  bedwars_level  \\\n",
      "0                   0.857369                    0.393690       0.029162   \n",
      "1                   0.259248                    0.170405       0.020390   \n",
      "2                   0.158323                    0.033990       0.006261   \n",
      "3                   0.795109                    0.344547       0.035338   \n",
      "4                   0.286807                    0.892081       0.033523   \n",
      "...                      ...                         ...            ...   \n",
      "4673                0.326393                    0.377611       0.000466   \n",
      "4674                0.402359                    2.421652       0.002499   \n",
      "4675                0.218134                    3.696439       0.001691   \n",
      "4676                0.131140                    0.621721       0.000596   \n",
      "4677                0.108045                    0.423421       0.002920   \n",
      "\n",
      "      bedwars_loot_box  bedwars_slumber_ticket_master  bedwars_wins  ...  \\\n",
      "0             0.002916                       0.000000      0.046660  ...   \n",
      "1             0.023303                       0.000000      0.017477  ...   \n",
      "2             0.004472                       0.000000      0.018784  ...   \n",
      "3             0.000000                       0.000000      0.106015  ...   \n",
      "4             0.013037                       0.000000      0.046560  ...   \n",
      "...                ...                            ...           ...  ...   \n",
      "4673          0.000000                       4.136024      0.121059  ...   \n",
      "4674          0.007497                       0.000000      0.337382  ...   \n",
      "4675          0.003382                       0.162332      0.133586  ...   \n",
      "4676          0.004173                       0.000000      0.094182  ...   \n",
      "4677          0.000000                       0.000000      0.163528  ...   \n",
      "\n",
      "      void_final_kills_bedwars  void_kills_bedwars  wins_bedwars      fkdr  \\\n",
      "0                     0.314952            0.580328      0.046660  0.003744   \n",
      "1                     0.109234            0.284008      0.017477  0.000672   \n",
      "2                     0.027729            0.091237      0.018784  0.000768   \n",
      "3                     0.265036            0.282706      0.106015  0.016197   \n",
      "4                     0.042835            0.439522      0.046560  0.000421   \n",
      "...                        ...                 ...           ...       ...   \n",
      "4673                  0.118731            0.440468      0.121059  0.326393   \n",
      "4674                  0.094967            0.892188      0.337382  0.402359   \n",
      "4675                  0.076093            0.458250      0.133586  0.218134   \n",
      "4676                  0.060205            0.203863      0.094182  0.131140   \n",
      "4677                  0.040882            0.195650      0.163528  0.108045   \n",
      "\n",
      "           wlr      bblr    fk_lev    bb_lev  kill_lev  Cheat  \n",
      "0     0.000188  0.003757  0.085737  0.117815  0.061241      0  \n",
      "1     0.000046  0.000462  0.018518  0.044526  0.012068      0  \n",
      "2     0.000150  0.000587  0.011628  0.031435  0.008050      0  \n",
      "3     0.002079  0.016763  0.194360  0.198777  0.163439      0  \n",
      "4     0.000134  0.000295  0.008381  0.075944  0.005794      0  \n",
      "...        ...       ...       ...       ...       ...    ...  \n",
      "4673  0.121059  0.139218  0.326393  0.908873  0.139218      1  \n",
      "4674  0.337382  0.089969  0.402359  2.481631  0.089969      1  \n",
      "4675  0.133586  0.023673  0.218134  1.170144  0.023673      1  \n",
      "4676  0.094182  0.139485  0.131140  0.382093  0.139485      1  \n",
      "4677  0.163528  0.032122  0.108045  0.362098  0.032122      1  \n",
      "\n",
      "[4678 rows x 45 columns]\n"
     ]
    }
   ],
   "source": [
    "# Cheatカラムを削除して、各レコードの合計を計算する\n",
    "row_sums = df.drop('Cheat', axis=1).sum(axis=1)\n",
    "\n",
    "# 10,000をその行の合計値で割った値を計算して保持する\n",
    "divisors = 1000 / row_sums\n",
    "\n",
    "# それぞれの行に対して計算した値を掛ける\n",
    "df_scaled = df.drop('Cheat', axis=1).mul(divisors, axis=0)\n",
    "\n",
    "# データフレームにCheatカラムを追加する\n",
    "df_scaled['Cheat'] = df['Cheat']\n",
    "print(df_scaled)\n",
    "\n",
    "# 新しいデータベースとして保存する\n",
    "# df_scaled.to_csv('ScaledData.csv', index=False)"
   ]
  },
  {
   "cell_type": "code",
   "execution_count": 56,
   "metadata": {},
   "outputs": [
    {
     "name": "stdout",
     "output_type": "stream",
     "text": [
      "Training Accuracy: 0.9997327632282202\n",
      "Testing Accuracy: 0.9412393162393162\n"
     ]
    }
   ],
   "source": [
    "# df = pd.get_dummies(df)\n",
    "# print(\"dummies\")\n",
    "\n",
    "X = df_scaled.drop('Cheat', axis=1)\n",
    "y = df_scaled['Cheat']\n",
    "\n",
    "# データの標準化\n",
    "# scaler = StandardScaler()\n",
    "# X = scaler.fit_transform(X)\n",
    "\n",
    "# 訓練データとテストデータに分割\n",
    "X_train, X_test, y_train, y_test = train_test_split(X, y, test_size=0.2, random_state=0)\n",
    "\n",
    "# モデルの作成\n",
    "model = RandomForestClassifier(n_estimators=200, random_state=42)\n",
    "model.fit(X_train, y_train)\n",
    "\n",
    "# 訓練データの正解率\n",
    "train_accuracy = model.score(X_train, y_train)\n",
    "print(f'Training Accuracy: {train_accuracy}')\n",
    "\n",
    "# テストデータの正解率\n",
    "test_accuracy = model.score(X_test, y_test)\n",
    "print(f'Testing Accuracy: {test_accuracy}')\n",
    "\n",
    "# モデルと標準化器の保存\n",
    "# joblib.dump(model, './models/Cheater.pkl')\n",
    "# joblib.dump(scaler, './models/scaler.joblib')\n"
   ]
  },
  {
   "cell_type": "code",
   "execution_count": 58,
   "metadata": {},
   "outputs": [
    {
     "data": {
      "text/plain": [
       "['./models/Cheater.pkl']"
      ]
     },
     "execution_count": 58,
     "metadata": {},
     "output_type": "execute_result"
    }
   ],
   "source": [
    "joblib.dump(model, './models/Cheater.pkl')\n",
    "# joblib.dump(scaler, './models/scaler.joblib')"
   ]
  },
  {
   "cell_type": "markdown",
   "metadata": {},
   "source": [
    "# snipe垢の条件\n",
    "\n",
    "fkdr, wlr, bblrは低い\n",
    "\n",
    "star n.levは30以下\n",
    "\n",
    "sniper%が高い　（ターゲットが見つかるまで何回もｒｑするから）\n",
    "\n",
    "fk/lev bb/lev kill/lev が高い　fk/levは7.5 bb/levは6.5 kill/levは20以上で高い"
   ]
  },
  {
   "cell_type": "markdown",
   "metadata": {},
   "source": [
    "# cheatersデータ - snipe垢 = not sniper cheaters\n",
    "snipe垢の条件外のcheaterを予測する。"
   ]
  },
  {
   "cell_type": "markdown",
   "metadata": {},
   "source": [
    "# cubelifyのsniper%\n",
    "cubelifyのsniper%を取得して、学習データとする"
   ]
  }
 ],
 "metadata": {
  "kernelspec": {
   "display_name": "Python 3",
   "language": "python",
   "name": "python3"
  },
  "language_info": {
   "codemirror_mode": {
    "name": "ipython",
    "version": 3
   },
   "file_extension": ".py",
   "mimetype": "text/x-python",
   "name": "python",
   "nbconvert_exporter": "python",
   "pygments_lexer": "ipython3",
   "version": "3.11.0"
  }
 },
 "nbformat": 4,
 "nbformat_minor": 2
}
